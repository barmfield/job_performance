{
 "cells": [
  {
   "cell_type": "code",
   "execution_count": 11,
   "metadata": {},
   "outputs": [],
   "source": [
    "import numpy as np\n",
    "import pandas as pd\n",
    "import matplotlib.pyplot as plt"
   ]
  },
  {
   "cell_type": "code",
   "execution_count": 12,
   "metadata": {},
   "outputs": [],
   "source": [
    "train_clean = pd.read_csv('hw4-trainingset-wsa2113.csv')\n",
    "train = train_clean.copy()"
   ]
  },
  {
   "cell_type": "code",
   "execution_count": 13,
   "metadata": {},
   "outputs": [],
   "source": [
    "test_clean = pd.read_csv('hw4-testset-wsa2113.csv')\n",
    "test = test_clean.copy()"
   ]
  },
  {
   "cell_type": "code",
   "execution_count": 14,
   "metadata": {},
   "outputs": [],
   "source": [
    "cb = pd.read_csv('CodeBook-SELECT.csv')"
   ]
  },
  {
   "cell_type": "code",
   "execution_count": 15,
   "metadata": {},
   "outputs": [
    {
     "name": "stdout",
     "output_type": "stream",
     "text": [
      "train shape: (20000, 380)\n",
      "test shape: (24500, 380)\n",
      "code book shape: (379, 2)\n"
     ]
    }
   ],
   "source": [
    "print('train shape:',train.shape)\n",
    "print('test shape:',test.shape)\n",
    "print('code book shape:',cb.shape)"
   ]
  },
  {
   "cell_type": "markdown",
   "metadata": {},
   "source": [
    "## TODO:  \n",
    "* create baseline\n",
    "    * drop high null variables and rows\n",
    "* Data cleaning\n",
    "    * drop duplicate columns\n",
    "        * cntryid, cntryid_e\n",
    "        * drop cntryid, as it is less specific\n",
    "    * drop cols w/ high null %\n",
    "    * drop rows w/ high null %\n",
    "    * add is_null column for each category where value was null\n",
    "    * find cols with mixed types and correct\n",
    "    * convert numerical columns to int or float from objects\n",
    "    * categorical variables\n",
    "        * OHC categorical variables\n",
    "        * make sure dtypes match up across train and test\n",
    "    * missing data\n",
    "        * experiment imputing with mean and median\n",
    "            * check distribution of data; if there are big outliers, use median, if not, use mean\n",
    "        * check all cols which have missing data and see if that data should be captured in a new feature\n",
    "    * feature scaling\n",
    "        * **NOTE: split and scale at the same time**\n",
    "        * normalization --> min/max scaler\n",
    "        * standardization (z-score normalization)\n",
    "        * api\n",
    "            * column transformer\n",
    "                * numeric transformer\n",
    "                    * imputer\n",
    "                    * scaler\n",
    "                * categorical transformer\n",
    "                    * imputer\n",
    "                    * OHE\n",
    "    * dimensionality reduction\n",
    "        * PCA\n",
    "    * normalizing\n",
    "        * yeo-johnson power transformer"
   ]
  },
  {
   "cell_type": "markdown",
   "metadata": {},
   "source": [
    "# Baseline\n",
    "* Remove columns\n",
    "    * Drop high % null cols and rows\n",
    "        * Threshold = 75%\n",
    "    * Drop columns unrelated to performance\n",
    "    * Drop target\n"
   ]
  },
  {
   "cell_type": "markdown",
   "metadata": {},
   "source": [
    "* Split data into train, val, and test sets"
   ]
  },
  {
   "cell_type": "code",
   "execution_count": 16,
   "metadata": {},
   "outputs": [
    {
     "name": "stdout",
     "output_type": "stream",
     "text": [
      "(19994, 273)\n",
      "(19994,)\n",
      "(24500, 273)\n",
      "(24500,)\n"
     ]
    }
   ],
   "source": [
    "from sklearn.model_selection import train_test_split\n",
    "\n",
    "train = train\\\n",
    "    .dropna(thresh = len(train)*0.25, axis = 1)\\\n",
    "    .dropna(thresh = len(train.columns)*0.25, axis = 0)\n",
    "\n",
    "X_train = train.drop(['uni','row','job_performance'], axis = 1)\n",
    "y_train = train['job_performance']\n",
    "# X_train, X_val, y_train, y_val = train_test_split(X_train, y_train, random_state = 4771)\n",
    "X_test = test[X_train.columns]\n",
    "y_test = test['job_performance']\n",
    "print(X_train.shape)\n",
    "print(y_train.shape)\n",
    "# print(X_val.shape)\n",
    "# print(y_val.shape)\n",
    "print(X_test.shape)\n",
    "print(y_test.shape)"
   ]
  },
  {
   "cell_type": "markdown",
   "metadata": {},
   "source": [
    "* Identify categorical and numerical columns"
   ]
  },
  {
   "cell_type": "code",
   "execution_count": 17,
   "metadata": {},
   "outputs": [],
   "source": [
    "categorical_obj_cols = X_train.dtypes == object\n",
    "cat_cols = categorical_obj_cols[categorical_obj_cols==True].index.values\n",
    "num_cols = categorical_obj_cols[categorical_obj_cols==False].index.values"
   ]
  },
  {
   "cell_type": "markdown",
   "metadata": {},
   "source": [
    "Dropped 6 rows and 105 columns."
   ]
  },
  {
   "cell_type": "markdown",
   "metadata": {},
   "source": [
    "* Fix columns with multiple data types"
   ]
  },
  {
   "cell_type": "code",
   "execution_count": 19,
   "metadata": {},
   "outputs": [],
   "source": [
    "for col in cat_cols:\n",
    "    X_train[col] = X_train[col].astype('str')\n",
    "#     X_val[col] = X_val[col].astype('str')\n",
    "    \n",
    "for col in num_cols:\n",
    "    X_train[col] = X_train[col].astype('float')\n",
    "#     X_val[col] = X_val[col].astype('float')"
   ]
  },
  {
   "cell_type": "markdown",
   "metadata": {},
   "source": [
    "### Build pipeline\n",
    "    * impute nulls\n",
    "    * scale numerical columns\n",
    "    * OHE categorical columns\n",
    "    * Try with\n",
    "        * Lasso\n",
    "        * Ridge\n",
    "        * RandomForestRegressor\n",
    "        * SVM"
   ]
  },
  {
   "cell_type": "code",
   "execution_count": 27,
   "metadata": {},
   "outputs": [],
   "source": [
    "def try_model(model):\n",
    "    from sklearn.compose import ColumnTransformer\n",
    "    from sklearn.pipeline import Pipeline\n",
    "    from sklearn.impute import SimpleImputer\n",
    "    from sklearn.preprocessing import StandardScaler, OneHotEncoder\n",
    "    from sklearn.model_selection import cross_val_score\n",
    "\n",
    "    num_transform = Pipeline(\n",
    "        [\n",
    "            ('num_imputer', SimpleImputer(strategy='median')),\n",
    "            ('scaler', StandardScaler())\n",
    "        ]\n",
    "    )\n",
    "\n",
    "    cat_transform = Pipeline(\n",
    "        [\n",
    "            ('cat_imputer', SimpleImputer(strategy='constant', fill_value='missing')),\n",
    "            ('onehot', OneHotEncoder(handle_unknown='ignore'))\n",
    "        ]\n",
    "    )\n",
    "\n",
    "    preprocessor = ColumnTransformer(\n",
    "        [\n",
    "            ('num', num_transform, ~categorical_obj_cols),\n",
    "            ('cat', cat_transform, categorical_obj_cols)\n",
    "        ]\n",
    "    )\n",
    "    \n",
    "    clf = Pipeline(\n",
    "        [\n",
    "            ('preprocessor', preprocessor),\n",
    "            ('model', model)\n",
    "        ]\n",
    "    )\n",
    "    scores = cross_val_score(clf, X_train, y_train, cv=3, scoring='neg_mean_squared_error')\n",
    "    print('Average MSE = {:.2f} +/- {:.2f}'.format(-np.mean(scores), np.std(scores)))"
   ]
  },
  {
   "cell_type": "code",
   "execution_count": 28,
   "metadata": {},
   "outputs": [
    {
     "name": "stdout",
     "output_type": "stream",
     "text": [
      "Average MSE = 126657.46 +/- 9624.29\n"
     ]
    }
   ],
   "source": [
    "from sklearn.linear_model import Lasso\n",
    "\n",
    "try_model(Lasso())"
   ]
  },
  {
   "cell_type": "code",
   "execution_count": 29,
   "metadata": {},
   "outputs": [
    {
     "name": "stdout",
     "output_type": "stream",
     "text": [
      "Average MSE = 130017.81 +/- 17253.86\n"
     ]
    }
   ],
   "source": [
    "from sklearn.linear_model import Ridge\n",
    "\n",
    "try_model(Ridge(alpha=1.0))"
   ]
  },
  {
   "cell_type": "code",
   "execution_count": 30,
   "metadata": {},
   "outputs": [
    {
     "name": "stdout",
     "output_type": "stream",
     "text": [
      "Average MSE = 117114.50 +/- 927.40\n"
     ]
    }
   ],
   "source": [
    "from sklearn.ensemble import RandomForestRegressor\n",
    "\n",
    "try_model(RandomForestRegressor(n_estimators=10, max_depth=20))"
   ]
  },
  {
   "cell_type": "code",
   "execution_count": 31,
   "metadata": {},
   "outputs": [
    {
     "name": "stdout",
     "output_type": "stream",
     "text": [
      "Average MSE = 122613.98 +/- 1697.94\n"
     ]
    }
   ],
   "source": [
    "from sklearn.svm import SVR\n",
    "\n",
    "try_model(SVR(kernel='rbf', C=100, gamma='scale', epsilon=.1))"
   ]
  },
  {
   "cell_type": "code",
   "execution_count": 33,
   "metadata": {},
   "outputs": [
    {
     "name": "stderr",
     "output_type": "stream",
     "text": [
      "/Users/barmfield/anaconda3/lib/python3.7/site-packages/xgboost/core.py:587: FutureWarning: Series.base is deprecated and will be removed in a future version\n",
      "  if getattr(data, 'base', None) is not None and \\\n",
      "/Users/barmfield/anaconda3/lib/python3.7/site-packages/xgboost/core.py:588: FutureWarning: Series.base is deprecated and will be removed in a future version\n",
      "  data.base is not None and isinstance(data, np.ndarray) \\\n"
     ]
    },
    {
     "name": "stdout",
     "output_type": "stream",
     "text": [
      "Average MSE = 120517.21\n"
     ]
    }
   ],
   "source": [
    "import xgboost as xgb\n",
    "from sklearn.compose import ColumnTransformer\n",
    "from sklearn.pipeline import Pipeline\n",
    "from sklearn.impute import SimpleImputer\n",
    "from sklearn.preprocessing import StandardScaler, OneHotEncoder\n",
    "from sklearn.model_selection import cross_val_score\n",
    "\n",
    "num_transform = Pipeline(\n",
    "    [\n",
    "        ('num_imputer', SimpleImputer(strategy='median')),\n",
    "        ('scaler', StandardScaler())\n",
    "    ]\n",
    ")\n",
    "\n",
    "cat_transform = Pipeline(\n",
    "    [\n",
    "        ('cat_imputer', SimpleImputer(strategy='constant', fill_value='missing')),\n",
    "        ('onehot', OneHotEncoder(handle_unknown='ignore'))\n",
    "    ]\n",
    ")\n",
    "\n",
    "preprocessor = ColumnTransformer(\n",
    "    [\n",
    "        ('num', num_transform, ~categorical_obj_cols),\n",
    "        ('cat', cat_transform, categorical_obj_cols)\n",
    "    ]\n",
    ")\n",
    "\n",
    "X_train_pr = preprocessor.fit_transform(X_train)\n",
    "X_test_pr = preprocessor.transform(X_test)\n",
    "\n",
    "Xy_train_xgb = xgb.DMatrix(data=X_train_pr, label=y_train)\n",
    "\n",
    "xg_reg = xgb.XGBRegressor(objective ='reg:squarederror', colsample_bytree = 0.3, learning_rate = 0.1,\n",
    "                max_depth = 5, alpha = 10, n_estimators = 10)\n",
    "\n",
    "params = {\"objective\":\"reg:squarederror\",'colsample_bytree': 0.3,'learning_rate': 0.1,\n",
    "                'max_depth': 5, 'alpha': 10}\n",
    "\n",
    "cv_results = xgb.cv(dtrain=Xy_train_xgb, params=params, nfold=3, num_boost_round=50,\n",
    "                    early_stopping_rounds=10,metrics=\"rmse\", as_pandas=True, seed=123)\n",
    "\n",
    "mse = cv_results[\"test-rmse-mean\"].tail(1).values[0]**2\n",
    "print('Average MSE = {:.2f}'.format(mse))"
   ]
  },
  {
   "cell_type": "code",
   "execution_count": null,
   "metadata": {},
   "outputs": [],
   "source": []
  },
  {
   "cell_type": "markdown",
   "metadata": {},
   "source": [
    "## Take 2  \n",
    "* univariate statistics\n",
    "* Incorporate PCA into pipeline\n",
    "* Create new encoding for high cardinality categorical columns\n",
    "* add missing value column for np.nan values\n",
    "* Add feature interactions for numerical columns\n",
    "* bootstrapping\n",
    "* complex imputer\n",
    "* Grid search best models from baseline\n",
    "* Normalize data with yeo-johnson power transformer\n",
    "* perutation importance for features? AML lec 12"
   ]
  },
  {
   "cell_type": "markdown",
   "metadata": {},
   "source": [
    "#### Univariate statistics"
   ]
  },
  {
   "cell_type": "markdown",
   "metadata": {},
   "source": [
    "#### PCA"
   ]
  },
  {
   "cell_type": "code",
   "execution_count": null,
   "metadata": {},
   "outputs": [],
   "source": [
    "from sklearn.decomposition import PCA\n",
    "\n",
    "pca = PCA().fit(data_rescaled)\n",
    "#Plotting the Cumulative Summation of the Explained Variance\n",
    "plt.figure()\n",
    "plt.plot(np.cumsum(pca.explained_variance_ratio_))\n",
    "plt.xlabel('Number of Components')\n",
    "plt.ylabel('Variance (%)') #for each component\n",
    "plt.title('Pulsar Dataset Explained Variance')\n",
    "plt.show()"
   ]
  },
  {
   "cell_type": "code",
   "execution_count": null,
   "metadata": {},
   "outputs": [],
   "source": []
  },
  {
   "cell_type": "code",
   "execution_count": null,
   "metadata": {},
   "outputs": [],
   "source": []
  },
  {
   "cell_type": "code",
   "execution_count": 10,
   "metadata": {},
   "outputs": [
    {
     "name": "stdout",
     "output_type": "stream",
     "text": [
      "lng_home\n",
      "cnt_h\n",
      "cnt_brth\n",
      "reg_tl2\n",
      "v272\n",
      "v52\n",
      "v184\n",
      "v104\n",
      "v135\n",
      "v235\n",
      "v1\n",
      "v63\n",
      "v87\n",
      "v239\n",
      "v224\n",
      "v71\n",
      "v105\n",
      "isic2l\n",
      "isic2c\n",
      "isco2c\n",
      "isco2l\n"
     ]
    }
   ],
   "source": [
    "# high cardinality cols\n",
    "for col in cat_cols:\n",
    "    if len(train[col].unique()) > 50:\n",
    "        print(col)\n"
   ]
  },
  {
   "cell_type": "code",
   "execution_count": null,
   "metadata": {},
   "outputs": [],
   "source": []
  },
  {
   "cell_type": "code",
   "execution_count": null,
   "metadata": {},
   "outputs": [],
   "source": []
  },
  {
   "cell_type": "code",
   "execution_count": null,
   "metadata": {},
   "outputs": [],
   "source": []
  },
  {
   "cell_type": "code",
   "execution_count": null,
   "metadata": {},
   "outputs": [],
   "source": []
  },
  {
   "cell_type": "code",
   "execution_count": null,
   "metadata": {},
   "outputs": [],
   "source": []
  },
  {
   "cell_type": "code",
   "execution_count": null,
   "metadata": {},
   "outputs": [],
   "source": []
  },
  {
   "cell_type": "code",
   "execution_count": null,
   "metadata": {},
   "outputs": [],
   "source": []
  },
  {
   "cell_type": "code",
   "execution_count": null,
   "metadata": {},
   "outputs": [],
   "source": []
  },
  {
   "cell_type": "code",
   "execution_count": null,
   "metadata": {},
   "outputs": [],
   "source": []
  },
  {
   "cell_type": "code",
   "execution_count": null,
   "metadata": {},
   "outputs": [],
   "source": []
  },
  {
   "cell_type": "code",
   "execution_count": 76,
   "metadata": {},
   "outputs": [],
   "source": []
  },
  {
   "cell_type": "code",
   "execution_count": null,
   "metadata": {},
   "outputs": [],
   "source": []
  }
 ],
 "metadata": {
  "kernelspec": {
   "display_name": "Python 3",
   "language": "python",
   "name": "python3"
  },
  "language_info": {
   "codemirror_mode": {
    "name": "ipython",
    "version": 3
   },
   "file_extension": ".py",
   "mimetype": "text/x-python",
   "name": "python",
   "nbconvert_exporter": "python",
   "pygments_lexer": "ipython3",
   "version": "3.7.3"
  }
 },
 "nbformat": 4,
 "nbformat_minor": 2
}
